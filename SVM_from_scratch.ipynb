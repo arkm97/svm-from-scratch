{
 "cells": [
  {
   "cell_type": "code",
   "execution_count": 2,
   "metadata": {},
   "outputs": [],
   "source": [
    "import numpy as np\n",
    "import pandas as pd\n",
    "import cvxpy as cp\n",
    "from sklearn import svm"
   ]
  },
  {
   "cell_type": "code",
   "execution_count": 3,
   "metadata": {},
   "outputs": [
    {
     "data": {
      "text/html": [
       "<div>\n",
       "<style scoped>\n",
       "    .dataframe tbody tr th:only-of-type {\n",
       "        vertical-align: middle;\n",
       "    }\n",
       "\n",
       "    .dataframe tbody tr th {\n",
       "        vertical-align: top;\n",
       "    }\n",
       "\n",
       "    .dataframe thead th {\n",
       "        text-align: right;\n",
       "    }\n",
       "</style>\n",
       "<table border=\"1\" class=\"dataframe\">\n",
       "  <thead>\n",
       "    <tr style=\"text-align: right;\">\n",
       "      <th></th>\n",
       "      <th>Income</th>\n",
       "      <th>Limit</th>\n",
       "      <th>Rating</th>\n",
       "      <th>Cards</th>\n",
       "      <th>Age</th>\n",
       "      <th>Education</th>\n",
       "      <th>Gender</th>\n",
       "      <th>Student</th>\n",
       "      <th>Married</th>\n",
       "      <th>Balance</th>\n",
       "      <th>Caucasian</th>\n",
       "      <th>Asian</th>\n",
       "    </tr>\n",
       "  </thead>\n",
       "  <tbody>\n",
       "    <tr>\n",
       "      <th>0</th>\n",
       "      <td>14.891</td>\n",
       "      <td>3606.0</td>\n",
       "      <td>283.0</td>\n",
       "      <td>2.0</td>\n",
       "      <td>34.0</td>\n",
       "      <td>11.0</td>\n",
       "      <td>0.0</td>\n",
       "      <td>0.0</td>\n",
       "      <td>1.0</td>\n",
       "      <td>333.0</td>\n",
       "      <td>1.0</td>\n",
       "      <td>0.0</td>\n",
       "    </tr>\n",
       "    <tr>\n",
       "      <th>1</th>\n",
       "      <td>106.025</td>\n",
       "      <td>6645.0</td>\n",
       "      <td>483.0</td>\n",
       "      <td>3.0</td>\n",
       "      <td>82.0</td>\n",
       "      <td>15.0</td>\n",
       "      <td>1.0</td>\n",
       "      <td>1.0</td>\n",
       "      <td>1.0</td>\n",
       "      <td>903.0</td>\n",
       "      <td>0.0</td>\n",
       "      <td>1.0</td>\n",
       "    </tr>\n",
       "    <tr>\n",
       "      <th>2</th>\n",
       "      <td>104.593</td>\n",
       "      <td>7075.0</td>\n",
       "      <td>514.0</td>\n",
       "      <td>4.0</td>\n",
       "      <td>71.0</td>\n",
       "      <td>11.0</td>\n",
       "      <td>0.0</td>\n",
       "      <td>0.0</td>\n",
       "      <td>0.0</td>\n",
       "      <td>580.0</td>\n",
       "      <td>0.0</td>\n",
       "      <td>1.0</td>\n",
       "    </tr>\n",
       "    <tr>\n",
       "      <th>3</th>\n",
       "      <td>148.924</td>\n",
       "      <td>9504.0</td>\n",
       "      <td>681.0</td>\n",
       "      <td>3.0</td>\n",
       "      <td>36.0</td>\n",
       "      <td>11.0</td>\n",
       "      <td>1.0</td>\n",
       "      <td>0.0</td>\n",
       "      <td>0.0</td>\n",
       "      <td>964.0</td>\n",
       "      <td>0.0</td>\n",
       "      <td>1.0</td>\n",
       "    </tr>\n",
       "    <tr>\n",
       "      <th>4</th>\n",
       "      <td>55.882</td>\n",
       "      <td>4897.0</td>\n",
       "      <td>357.0</td>\n",
       "      <td>2.0</td>\n",
       "      <td>68.0</td>\n",
       "      <td>16.0</td>\n",
       "      <td>0.0</td>\n",
       "      <td>0.0</td>\n",
       "      <td>1.0</td>\n",
       "      <td>331.0</td>\n",
       "      <td>1.0</td>\n",
       "      <td>0.0</td>\n",
       "    </tr>\n",
       "  </tbody>\n",
       "</table>\n",
       "</div>"
      ],
      "text/plain": [
       "    Income   Limit  Rating  Cards   Age  Education  Gender  Student  Married  \\\n",
       "0   14.891  3606.0   283.0    2.0  34.0       11.0     0.0      0.0      1.0   \n",
       "1  106.025  6645.0   483.0    3.0  82.0       15.0     1.0      1.0      1.0   \n",
       "2  104.593  7075.0   514.0    4.0  71.0       11.0     0.0      0.0      0.0   \n",
       "3  148.924  9504.0   681.0    3.0  36.0       11.0     1.0      0.0      0.0   \n",
       "4   55.882  4897.0   357.0    2.0  68.0       16.0     0.0      0.0      1.0   \n",
       "\n",
       "   Balance  Caucasian  Asian  \n",
       "0    333.0        1.0    0.0  \n",
       "1    903.0        0.0    1.0  \n",
       "2    580.0        0.0    1.0  \n",
       "3    964.0        0.0    1.0  \n",
       "4    331.0        1.0    0.0  "
      ]
     },
     "execution_count": 3,
     "metadata": {},
     "output_type": "execute_result"
    }
   ],
   "source": [
    "credit_df = pd.read_table('Credit.dat',\n",
    "                         delimiter=' ',\n",
    "                         usecols=np.arange(1,13))\n",
    "credit_df.head()"
   ]
  },
  {
   "cell_type": "code",
   "execution_count": 4,
   "metadata": {},
   "outputs": [],
   "source": [
    "#  standardize all columns\n",
    "credit_df_norm = (credit_df - credit_df.mean())/(credit_df.std())"
   ]
  },
  {
   "cell_type": "code",
   "execution_count": 5,
   "metadata": {},
   "outputs": [
    {
     "data": {
      "text/html": [
       "<div>\n",
       "<style scoped>\n",
       "    .dataframe tbody tr th:only-of-type {\n",
       "        vertical-align: middle;\n",
       "    }\n",
       "\n",
       "    .dataframe tbody tr th {\n",
       "        vertical-align: top;\n",
       "    }\n",
       "\n",
       "    .dataframe thead th {\n",
       "        text-align: right;\n",
       "    }\n",
       "</style>\n",
       "<table border=\"1\" class=\"dataframe\">\n",
       "  <thead>\n",
       "    <tr style=\"text-align: right;\">\n",
       "      <th></th>\n",
       "      <th>Income</th>\n",
       "      <th>Limit</th>\n",
       "      <th>Rating</th>\n",
       "      <th>Cards</th>\n",
       "      <th>Age</th>\n",
       "      <th>Education</th>\n",
       "      <th>Gender</th>\n",
       "      <th>Student</th>\n",
       "      <th>Married</th>\n",
       "      <th>Balance</th>\n",
       "      <th>Caucasian</th>\n",
       "      <th>Asian</th>\n",
       "    </tr>\n",
       "  </thead>\n",
       "  <tbody>\n",
       "    <tr>\n",
       "      <th>0</th>\n",
       "      <td>-0.860505</td>\n",
       "      <td>-0.489386</td>\n",
       "      <td>-0.464957</td>\n",
       "      <td>-0.698255</td>\n",
       "      <td>-1.256101</td>\n",
       "      <td>-0.783948</td>\n",
       "      <td>-1.034339</td>\n",
       "      <td>-0.332916</td>\n",
       "      <td>0.794400</td>\n",
       "      <td>-0.406768</td>\n",
       "      <td>1.003756</td>\n",
       "      <td>-0.584317</td>\n",
       "    </tr>\n",
       "    <tr>\n",
       "      <th>1</th>\n",
       "      <td>1.725276</td>\n",
       "      <td>0.827225</td>\n",
       "      <td>0.827667</td>\n",
       "      <td>0.030993</td>\n",
       "      <td>1.526539</td>\n",
       "      <td>0.495967</td>\n",
       "      <td>0.964384</td>\n",
       "      <td>2.996248</td>\n",
       "      <td>0.794400</td>\n",
       "      <td>0.833013</td>\n",
       "      <td>-0.993768</td>\n",
       "      <td>1.707122</td>\n",
       "    </tr>\n",
       "    <tr>\n",
       "      <th>2</th>\n",
       "      <td>1.684646</td>\n",
       "      <td>1.013518</td>\n",
       "      <td>1.028023</td>\n",
       "      <td>0.760241</td>\n",
       "      <td>0.888851</td>\n",
       "      <td>-0.783948</td>\n",
       "      <td>-1.034339</td>\n",
       "      <td>-0.332916</td>\n",
       "      <td>-1.255665</td>\n",
       "      <td>0.130471</td>\n",
       "      <td>-0.993768</td>\n",
       "      <td>1.707122</td>\n",
       "    </tr>\n",
       "    <tr>\n",
       "      <th>3</th>\n",
       "      <td>2.942467</td>\n",
       "      <td>2.065853</td>\n",
       "      <td>2.107363</td>\n",
       "      <td>0.030993</td>\n",
       "      <td>-1.140158</td>\n",
       "      <td>-0.783948</td>\n",
       "      <td>0.964384</td>\n",
       "      <td>-0.332916</td>\n",
       "      <td>-1.255665</td>\n",
       "      <td>0.965691</td>\n",
       "      <td>-0.993768</td>\n",
       "      <td>1.707122</td>\n",
       "    </tr>\n",
       "    <tr>\n",
       "      <th>4</th>\n",
       "      <td>0.302549</td>\n",
       "      <td>0.069925</td>\n",
       "      <td>0.013314</td>\n",
       "      <td>-0.698255</td>\n",
       "      <td>0.714936</td>\n",
       "      <td>0.815946</td>\n",
       "      <td>-1.034339</td>\n",
       "      <td>-0.332916</td>\n",
       "      <td>0.794400</td>\n",
       "      <td>-0.411118</td>\n",
       "      <td>1.003756</td>\n",
       "      <td>-0.584317</td>\n",
       "    </tr>\n",
       "  </tbody>\n",
       "</table>\n",
       "</div>"
      ],
      "text/plain": [
       "     Income     Limit    Rating     Cards       Age  Education    Gender  \\\n",
       "0 -0.860505 -0.489386 -0.464957 -0.698255 -1.256101  -0.783948 -1.034339   \n",
       "1  1.725276  0.827225  0.827667  0.030993  1.526539   0.495967  0.964384   \n",
       "2  1.684646  1.013518  1.028023  0.760241  0.888851  -0.783948 -1.034339   \n",
       "3  2.942467  2.065853  2.107363  0.030993 -1.140158  -0.783948  0.964384   \n",
       "4  0.302549  0.069925  0.013314 -0.698255  0.714936   0.815946 -1.034339   \n",
       "\n",
       "    Student   Married   Balance  Caucasian     Asian  \n",
       "0 -0.332916  0.794400 -0.406768   1.003756 -0.584317  \n",
       "1  2.996248  0.794400  0.833013  -0.993768  1.707122  \n",
       "2 -0.332916 -1.255665  0.130471  -0.993768  1.707122  \n",
       "3 -0.332916 -1.255665  0.965691  -0.993768  1.707122  \n",
       "4 -0.332916  0.794400 -0.411118   1.003756 -0.584317  "
      ]
     },
     "execution_count": 5,
     "metadata": {},
     "output_type": "execute_result"
    }
   ],
   "source": [
    "credit_df_norm.head()"
   ]
  },
  {
   "cell_type": "code",
   "execution_count": 6,
   "metadata": {
    "scrolled": false
   },
   "outputs": [],
   "source": [
    "#  revert columns that range from 0 to 1\n",
    "for col in credit_df.iteritems():\n",
    "    if ((col[1].max() - col[1].min()) == 1.0):\n",
    "        credit_df_norm[col[0]] = credit_df[col[0]]"
   ]
  },
  {
   "cell_type": "code",
   "execution_count": 7,
   "metadata": {},
   "outputs": [
    {
     "data": {
      "text/html": [
       "<div>\n",
       "<style scoped>\n",
       "    .dataframe tbody tr th:only-of-type {\n",
       "        vertical-align: middle;\n",
       "    }\n",
       "\n",
       "    .dataframe tbody tr th {\n",
       "        vertical-align: top;\n",
       "    }\n",
       "\n",
       "    .dataframe thead th {\n",
       "        text-align: right;\n",
       "    }\n",
       "</style>\n",
       "<table border=\"1\" class=\"dataframe\">\n",
       "  <thead>\n",
       "    <tr style=\"text-align: right;\">\n",
       "      <th></th>\n",
       "      <th>Income</th>\n",
       "      <th>Limit</th>\n",
       "      <th>Rating</th>\n",
       "      <th>Cards</th>\n",
       "      <th>Age</th>\n",
       "      <th>Education</th>\n",
       "      <th>Gender</th>\n",
       "      <th>Student</th>\n",
       "      <th>Married</th>\n",
       "      <th>Balance</th>\n",
       "      <th>Caucasian</th>\n",
       "      <th>Asian</th>\n",
       "    </tr>\n",
       "  </thead>\n",
       "  <tbody>\n",
       "    <tr>\n",
       "      <th>0</th>\n",
       "      <td>-0.860505</td>\n",
       "      <td>-0.489386</td>\n",
       "      <td>-0.464957</td>\n",
       "      <td>-0.698255</td>\n",
       "      <td>-1.256101</td>\n",
       "      <td>-0.783948</td>\n",
       "      <td>0.0</td>\n",
       "      <td>0.0</td>\n",
       "      <td>1.0</td>\n",
       "      <td>-0.406768</td>\n",
       "      <td>1.0</td>\n",
       "      <td>0.0</td>\n",
       "    </tr>\n",
       "    <tr>\n",
       "      <th>1</th>\n",
       "      <td>1.725276</td>\n",
       "      <td>0.827225</td>\n",
       "      <td>0.827667</td>\n",
       "      <td>0.030993</td>\n",
       "      <td>1.526539</td>\n",
       "      <td>0.495967</td>\n",
       "      <td>1.0</td>\n",
       "      <td>1.0</td>\n",
       "      <td>1.0</td>\n",
       "      <td>0.833013</td>\n",
       "      <td>0.0</td>\n",
       "      <td>1.0</td>\n",
       "    </tr>\n",
       "    <tr>\n",
       "      <th>2</th>\n",
       "      <td>1.684646</td>\n",
       "      <td>1.013518</td>\n",
       "      <td>1.028023</td>\n",
       "      <td>0.760241</td>\n",
       "      <td>0.888851</td>\n",
       "      <td>-0.783948</td>\n",
       "      <td>0.0</td>\n",
       "      <td>0.0</td>\n",
       "      <td>0.0</td>\n",
       "      <td>0.130471</td>\n",
       "      <td>0.0</td>\n",
       "      <td>1.0</td>\n",
       "    </tr>\n",
       "    <tr>\n",
       "      <th>3</th>\n",
       "      <td>2.942467</td>\n",
       "      <td>2.065853</td>\n",
       "      <td>2.107363</td>\n",
       "      <td>0.030993</td>\n",
       "      <td>-1.140158</td>\n",
       "      <td>-0.783948</td>\n",
       "      <td>1.0</td>\n",
       "      <td>0.0</td>\n",
       "      <td>0.0</td>\n",
       "      <td>0.965691</td>\n",
       "      <td>0.0</td>\n",
       "      <td>1.0</td>\n",
       "    </tr>\n",
       "    <tr>\n",
       "      <th>4</th>\n",
       "      <td>0.302549</td>\n",
       "      <td>0.069925</td>\n",
       "      <td>0.013314</td>\n",
       "      <td>-0.698255</td>\n",
       "      <td>0.714936</td>\n",
       "      <td>0.815946</td>\n",
       "      <td>0.0</td>\n",
       "      <td>0.0</td>\n",
       "      <td>1.0</td>\n",
       "      <td>-0.411118</td>\n",
       "      <td>1.0</td>\n",
       "      <td>0.0</td>\n",
       "    </tr>\n",
       "  </tbody>\n",
       "</table>\n",
       "</div>"
      ],
      "text/plain": [
       "     Income     Limit    Rating     Cards       Age  Education  Gender  \\\n",
       "0 -0.860505 -0.489386 -0.464957 -0.698255 -1.256101  -0.783948     0.0   \n",
       "1  1.725276  0.827225  0.827667  0.030993  1.526539   0.495967     1.0   \n",
       "2  1.684646  1.013518  1.028023  0.760241  0.888851  -0.783948     0.0   \n",
       "3  2.942467  2.065853  2.107363  0.030993 -1.140158  -0.783948     1.0   \n",
       "4  0.302549  0.069925  0.013314 -0.698255  0.714936   0.815946     0.0   \n",
       "\n",
       "   Student  Married   Balance  Caucasian  Asian  \n",
       "0      0.0      1.0 -0.406768        1.0    0.0  \n",
       "1      1.0      1.0  0.833013        0.0    1.0  \n",
       "2      0.0      0.0  0.130471        0.0    1.0  \n",
       "3      0.0      0.0  0.965691        0.0    1.0  \n",
       "4      0.0      1.0 -0.411118        1.0    0.0  "
      ]
     },
     "execution_count": 7,
     "metadata": {},
     "output_type": "execute_result"
    }
   ],
   "source": [
    "credit_df_norm.head()"
   ]
  },
  {
   "cell_type": "code",
   "execution_count": 115,
   "metadata": {},
   "outputs": [],
   "source": [
    "target='Married'\n",
    "training_points = 200\n",
    "train_df = credit_df_norm.drop(target, axis=1).loc[:training_points]\n",
    "train_target = credit_df_norm[target].replace(0, -1).loc[:training_points]\n",
    "\n",
    "# train_df = np.array([[3,4],[1,4],[2,3],[6,-1],[7,-1],[5,-3],[2,4]] )\n",
    "# train_target = np.array([-1,-1, -1, 1, 1 , 1, 1 ])"
   ]
  },
  {
   "cell_type": "code",
   "execution_count": 116,
   "metadata": {},
   "outputs": [],
   "source": [
    "k_value = np.array(train_df @ train_df.T + np.identity(len(train_target))*1e-12)"
   ]
  },
  {
   "cell_type": "code",
   "execution_count": 117,
   "metadata": {},
   "outputs": [
    {
     "data": {
      "text/plain": [
       "array([[ 5.04153742, -4.94105406, -3.50945918, ...,  1.20452353,\n",
       "         3.5809826 ,  0.51992661],\n",
       "       [-4.94105406, 10.61708724,  6.69604535, ..., -2.7768132 ,\n",
       "        -3.20264287, -0.79965593],\n",
       "       [-3.50945918,  6.69604535,  7.92170028, ..., -3.7405506 ,\n",
       "        -0.21268301, -2.95536785],\n",
       "       ...,\n",
       "       [ 1.20452353, -2.7768132 , -3.7405506 , ...,  6.70215302,\n",
       "        -0.44118489, -0.08110758],\n",
       "       [ 3.5809826 , -3.20264287, -0.21268301, ..., -0.44118489,\n",
       "         6.93467274, -1.80715243],\n",
       "       [ 0.51992661, -0.79965593, -2.95536785, ..., -0.08110758,\n",
       "        -1.80715243,  4.35018343]])"
      ]
     },
     "execution_count": 117,
     "metadata": {},
     "output_type": "execute_result"
    }
   ],
   "source": [
    "k_value"
   ]
  },
  {
   "cell_type": "code",
   "execution_count": 118,
   "metadata": {},
   "outputs": [
    {
     "data": {
      "text/plain": [
       "array([[ 2.24533682e+00,  0.00000000e+00,  0.00000000e+00, ...,\n",
       "         0.00000000e+00,  0.00000000e+00,  0.00000000e+00],\n",
       "       [-2.20058480e+00,  2.40302180e+00,  0.00000000e+00, ...,\n",
       "         0.00000000e+00,  0.00000000e+00,  0.00000000e+00],\n",
       "       [-1.56299899e+00,  1.35518268e+00,  1.90845863e+00, ...,\n",
       "         0.00000000e+00,  0.00000000e+00,  0.00000000e+00],\n",
       "       ...,\n",
       "       [ 5.36455609e-01, -6.64287416e-01, -1.04893038e+00, ...,\n",
       "         1.02275371e-06,  0.00000000e+00,  0.00000000e+00],\n",
       "       [ 1.59485320e+00,  1.27742011e-01,  1.10400988e+00, ...,\n",
       "        -2.46664055e-08,  1.03358295e-06,  0.00000000e+00],\n",
       "       [ 2.31558403e-01, -1.20719684e-01, -1.27319767e+00, ...,\n",
       "         2.83861383e-10, -5.83309832e-09,  1.01751738e-06]])"
      ]
     },
     "execution_count": 118,
     "metadata": {},
     "output_type": "execute_result"
    }
   ],
   "source": [
    "#  check PSD\n",
    "np.linalg.cholesky(k_value)"
   ]
  },
  {
   "cell_type": "code",
   "execution_count": 119,
   "metadata": {},
   "outputs": [],
   "source": [
    "alpha = cp.Variable(shape=train_target.shape)\n",
    "beta = cp.multiply(alpha, train_target)\n",
    "K = cp.Parameter(shape=k_value.shape, PSD=True, value=k_value)\n",
    "obj = .5 * cp.quad_form(beta, K) - np.ones(alpha.shape).T @ alpha\n",
    "const = [np.array(train_target.T) @ alpha == 0,\n",
    "        -alpha <= np.zeros(alpha.shape),\n",
    "        alpha <= 10*np.ones(shape=alpha.shape)]\n",
    "prob = cp.Problem(cp.Minimize(obj), const)"
   ]
  },
  {
   "cell_type": "code",
   "execution_count": 120,
   "metadata": {},
   "outputs": [
    {
     "data": {
      "text/plain": [
       "-1619.4756033909446"
      ]
     },
     "execution_count": 120,
     "metadata": {},
     "output_type": "execute_result"
    }
   ],
   "source": [
    "result = prob.solve()\n",
    "result"
   ]
  },
  {
   "cell_type": "code",
   "execution_count": 121,
   "metadata": {},
   "outputs": [
    {
     "data": {
      "text/plain": [
       "Income      -0.053383\n",
       "Limit       -0.509973\n",
       "Rating       0.392604\n",
       "Cards       -0.062476\n",
       "Age         -0.188346\n",
       "Education    0.022351\n",
       "Gender       0.100693\n",
       "Student     -0.698400\n",
       "Balance      0.251143\n",
       "Caucasian   -0.147832\n",
       "Asian        0.095009\n",
       "Name: Married, dtype: float64"
      ]
     },
     "execution_count": 121,
     "metadata": {},
     "output_type": "execute_result"
    }
   ],
   "source": [
    "w = np.multiply(train_target, alpha.value).T @ train_df\n",
    "w"
   ]
  },
  {
   "cell_type": "code",
   "execution_count": 147,
   "metadata": {},
   "outputs": [
    {
     "data": {
      "text/plain": [
       "0.874338454690015"
      ]
     },
     "execution_count": 147,
     "metadata": {},
     "output_type": "execute_result"
    }
   ],
   "source": [
    "S = (alpha.value > 1e-4).flatten()\n",
    "b = train_target[S] - train_df[S] @ w\n",
    "b = b[0]\n",
    "b"
   ]
  },
  {
   "cell_type": "code",
   "execution_count": 124,
   "metadata": {},
   "outputs": [],
   "source": [
    "def classify(x):\n",
    "    result = w @ x + b\n",
    "    return np.sign(result)"
   ]
  },
  {
   "cell_type": "code",
   "execution_count": 152,
   "metadata": {
    "scrolled": false
   },
   "outputs": [],
   "source": [
    "correct = 0\n",
    "incorrect = 0\n",
    "validation_set = credit_df_norm.drop(target, axis=1)\n",
    "predictions = []\n",
    "for i, x in validation_set.iterrows():\n",
    "    my_svm = classify(x)\n",
    "    if my_svm==credit_df_norm[target].replace(0, -1)[i]: correct +=1\n",
    "    else: incorrect +=1\n",
    "    predictions.append(my_svm)\n",
    "predictions = np.array(predictions)"
   ]
  },
  {
   "cell_type": "code",
   "execution_count": 127,
   "metadata": {},
   "outputs": [
    {
     "name": "stdout",
     "output_type": "stream",
     "text": [
      "0.61\n"
     ]
    }
   ],
   "source": [
    "print(correct/(correct + incorrect))"
   ]
  },
  {
   "cell_type": "code",
   "execution_count": 175,
   "metadata": {},
   "outputs": [
    {
     "data": {
      "text/plain": [
       "array([ 4.02718492, 10.        , 10.        , 10.        , 10.        ,\n",
       "       10.        , 10.        , 10.        , 10.        , 10.        ,\n",
       "       10.        , 10.        , 10.        , 10.        , 10.        ,\n",
       "       10.        , 10.        , 10.        , 10.        , 10.        ,\n",
       "       10.        , 10.        , 10.        , 10.        , 10.        ,\n",
       "       10.        , 10.        , 10.        , 10.        , 10.        ,\n",
       "       10.        , 10.        , 10.        , 10.        , 10.        ,\n",
       "       10.        , 10.        , 10.        , 10.        , 10.        ,\n",
       "       10.        , 10.        , 10.        , 10.        , 10.        ,\n",
       "       10.        , 10.        , 10.        , 10.        , 10.        ,\n",
       "       10.        , 10.        , 10.        , 10.        , 10.        ,\n",
       "       10.        , 10.        ,  4.1578321 , 10.        ,  9.93494512,\n",
       "       10.        , 10.        , 10.        , 10.        , 10.        ,\n",
       "       10.        , 10.        , 10.        , 10.        , 10.        ,\n",
       "       10.        , 10.        , 10.        , 10.        , 10.        ,\n",
       "       10.        , 10.        , 10.        , 10.        , 10.        ,\n",
       "       10.        , 10.        , 10.        , 10.        , 10.        ,\n",
       "       10.        , 10.        , 10.        , 10.        , 10.        ,\n",
       "       10.        , 10.        , 10.        , 10.        , 10.        ,\n",
       "       10.        , 10.        , 10.        , 10.        , 10.        ,\n",
       "        6.52291806, 10.        , 10.        , 10.        , 10.        ,\n",
       "       10.        , 10.        ,  3.89313876, 10.        , 10.        ,\n",
       "       10.        , 10.        ,  0.66235065, 10.        , 10.        ,\n",
       "        9.30159977, 10.        , 10.        , 10.        , 10.        ,\n",
       "       10.        ,  6.6309647 , 10.        , 10.        ,  1.38168716,\n",
       "       10.        , 10.        , 10.        , 10.        , 10.        ,\n",
       "       10.        , 10.        , 10.        , 10.        , 10.        ,\n",
       "       10.        , 10.        , 10.        , 10.        , 10.        ,\n",
       "       10.        , 10.        , 10.        , 10.        , 10.        ,\n",
       "       10.        , 10.        , 10.        , 10.        , 10.        ,\n",
       "       10.        , 10.        , 10.        , 10.        , 10.        ,\n",
       "       10.        , 10.        , 10.        , 10.        , 10.        ,\n",
       "       10.        , 10.        ,  2.67110046, 10.        ,  0.81627829,\n",
       "       10.        , 10.        , 10.        ])"
      ]
     },
     "execution_count": 175,
     "metadata": {},
     "output_type": "execute_result"
    }
   ],
   "source": [
    "np.array([i for i in alpha.value if i >=1e-4])"
   ]
  },
  {
   "cell_type": "code",
   "execution_count": 157,
   "metadata": {
    "collapsed": true
   },
   "outputs": [
    {
     "data": {
      "text/plain": [
       "array([0., 0., 0., 0., 0., 0., 0., 0., 0., 0., 0., 0., 0., 0., 0., 0., 0.,\n",
       "       0., 0., 0., 0., 0., 0., 0., 0., 0., 0., 0., 0., 0., 0., 0., 0., 0.,\n",
       "       0., 0., 0., 0., 0., 0., 0., 0., 0., 0., 0., 0., 0., 0., 0., 0., 0.,\n",
       "       0., 0., 0., 0., 0., 0., 0., 0., 0., 0., 0., 0., 0., 0., 0., 0., 0.,\n",
       "       0., 0., 0., 0., 0., 0., 0., 0., 0., 0., 0., 0., 0., 0., 0., 0., 0.,\n",
       "       0., 0., 0., 0., 0., 0., 0., 0., 0., 0., 0., 0., 0., 0., 0., 0., 0.,\n",
       "       0., 0., 0., 0., 0., 0., 0., 0., 0., 0., 0., 0., 0., 0., 0., 0., 0.,\n",
       "       0., 0., 0., 0., 0., 0., 0., 0., 0., 0., 0., 0., 0., 0., 0., 0., 0.,\n",
       "       0., 0., 0., 0., 0., 0., 0., 0., 0., 0., 0., 0., 0., 0., 0., 0., 0.,\n",
       "       0., 0., 0., 0., 0., 0., 0., 0., 0., 0., 0., 0., 0., 0., 0., 0., 0.,\n",
       "       0., 0., 0., 0., 0., 0., 0., 0., 0., 0., 0., 0., 0., 0., 0., 0., 0.,\n",
       "       0., 0., 0., 0., 0., 0., 0., 0., 0., 0., 0., 0., 0., 0., 0., 0., 0.,\n",
       "       0., 0., 0., 0., 0., 0., 0., 0., 0., 0., 0., 0., 0., 0., 0., 0., 0.,\n",
       "       0., 0., 0., 0., 0., 0., 0., 0., 0., 0., 0., 0., 0., 0., 0., 0., 0.,\n",
       "       0., 0., 0., 0., 0., 0., 0., 0., 0., 0., 0., 0., 0., 0., 0., 0., 0.,\n",
       "       0., 0., 0., 0., 0., 0., 0., 0., 0., 0., 0., 0., 0., 0., 0., 0., 0.,\n",
       "       0., 0., 0., 0., 0., 0., 0., 2., 0., 0., 0., 0., 0., 0., 0., 0., 0.,\n",
       "       0., 0., 0., 0., 0., 0., 0., 0., 0., 0., 0., 0., 0., 0., 0., 0., 0.,\n",
       "       0., 0., 0., 0., 0., 0., 0., 0., 0., 0., 0., 0., 0., 0., 0., 0., 0.,\n",
       "       0., 0., 0., 0., 0., 0., 0., 0., 0., 0., 0., 0., 0., 0., 0., 0., 0.,\n",
       "       0., 0., 0., 0., 0., 0., 0., 0., 0., 0., 0., 0., 0., 0., 0., 0., 0.,\n",
       "       0., 0., 0., 0., 0., 0., 0., 0., 0., 0., 0., 0., 0., 0., 0., 0., 0.,\n",
       "       0., 0., 0., 0., 0., 0., 0., 0., 0., 0., 0., 0., 0., 0., 0., 0., 0.,\n",
       "       0., 0., 0., 0., 0., 0., 0., 0., 0.])"
      ]
     },
     "execution_count": 157,
     "metadata": {},
     "output_type": "execute_result"
    }
   ],
   "source": [
    "sklearn_svm.predict(credit_df_norm.drop(target, axis=1)) - predictions"
   ]
  },
  {
   "cell_type": "code",
   "execution_count": 177,
   "metadata": {},
   "outputs": [
    {
     "data": {
      "text/plain": [
       "SVC(C=10, cache_size=200, class_weight=None, coef0=0.0,\n",
       "  decision_function_shape='ovr', degree=3, gamma='auto_deprecated',\n",
       "  kernel='linear', max_iter=-1, probability=False, random_state=None,\n",
       "  shrinking=True, tol=0.001, verbose=False)"
      ]
     },
     "execution_count": 177,
     "metadata": {},
     "output_type": "execute_result"
    }
   ],
   "source": [
    "sklearn_svm = svm.SVC(C = 10, kernel='linear')\n",
    "sklearn_svm.fit(train_df, train_target)"
   ]
  },
  {
   "cell_type": "code",
   "execution_count": 178,
   "metadata": {},
   "outputs": [
    {
     "data": {
      "text/plain": [
       "0.6075"
      ]
     },
     "execution_count": 178,
     "metadata": {},
     "output_type": "execute_result"
    }
   ],
   "source": [
    "sklearn_svm.score(credit_df_norm.drop(target, axis=1), credit_df_norm[target])"
   ]
  },
  {
   "cell_type": "code",
   "execution_count": 179,
   "metadata": {},
   "outputs": [
    {
     "data": {
      "text/plain": [
       "array([0.87383422])"
      ]
     },
     "execution_count": 179,
     "metadata": {},
     "output_type": "execute_result"
    }
   ],
   "source": [
    "sklearn_svm.intercept_"
   ]
  },
  {
   "cell_type": "code",
   "execution_count": 180,
   "metadata": {},
   "outputs": [
    {
     "data": {
      "text/plain": [
       "array([[-10.        , -10.        , -10.        , -10.        ,\n",
       "        -10.        , -10.        , -10.        , -10.        ,\n",
       "        -10.        , -10.        , -10.        , -10.        ,\n",
       "        -10.        , -10.        , -10.        , -10.        ,\n",
       "        -10.        , -10.        , -10.        , -10.        ,\n",
       "        -10.        , -10.        , -10.        , -10.        ,\n",
       "        -10.        , -10.        , -10.        , -10.        ,\n",
       "        -10.        , -10.        , -10.        , -10.        ,\n",
       "        -10.        , -10.        , -10.        , -10.        ,\n",
       "        -10.        , -10.        , -10.        , -10.        ,\n",
       "        -10.        , -10.        , -10.        , -10.        ,\n",
       "        -10.        , -10.        , -10.        , -10.        ,\n",
       "        -10.        , -10.        , -10.        , -10.        ,\n",
       "        -10.        , -10.        , -10.        , -10.        ,\n",
       "        -10.        , -10.        , -10.        , -10.        ,\n",
       "        -10.        , -10.        , -10.        , -10.        ,\n",
       "        -10.        , -10.        , -10.        , -10.        ,\n",
       "        -10.        , -10.        , -10.        , -10.        ,\n",
       "        -10.        , -10.        , -10.        , -10.        ,\n",
       "        -10.        , -10.        , -10.        , -10.        ,\n",
       "        -10.        ,   4.04111315,  10.        ,  10.        ,\n",
       "         10.        ,  10.        ,  10.        ,  10.        ,\n",
       "         10.        ,  10.        ,  10.        ,  10.        ,\n",
       "         10.        ,  10.        ,  10.        ,  10.        ,\n",
       "         10.        ,  10.        ,  10.        ,  10.        ,\n",
       "         10.        ,  10.        ,  10.        ,  10.        ,\n",
       "         10.        ,  10.        ,  10.        ,  10.        ,\n",
       "         10.        ,  10.        ,  10.        ,  10.        ,\n",
       "         10.        ,   4.14533778,   9.90788506,  10.        ,\n",
       "         10.        ,  10.        ,  10.        ,  10.        ,\n",
       "         10.        ,  10.        ,  10.        ,  10.        ,\n",
       "         10.        ,  10.        ,   6.53285676,  10.        ,\n",
       "         10.        ,  10.        ,  10.        ,   3.90620012,\n",
       "         10.        ,  10.        ,   0.67680953,  10.        ,\n",
       "          9.30364077,  10.        ,  10.        ,   6.60392709,\n",
       "         10.        ,  10.        ,   1.36612737,  10.        ,\n",
       "         10.        ,  10.        ,  10.        ,  10.        ,\n",
       "         10.        ,  10.        ,  10.        ,  10.        ,\n",
       "         10.        ,  10.        ,  10.        ,  10.        ,\n",
       "         10.        ,  10.        ,  10.        ,  10.        ,\n",
       "         10.        ,  10.        ,  10.        ,   2.67397211,\n",
       "         10.        ,   0.84213027,  10.        ,  10.        ]])"
      ]
     },
     "execution_count": 180,
     "metadata": {},
     "output_type": "execute_result"
    }
   ],
   "source": [
    "sklearn_svm.dual_coef_"
   ]
  },
  {
   "cell_type": "code",
   "execution_count": null,
   "metadata": {},
   "outputs": [],
   "source": []
  }
 ],
 "metadata": {
  "kernelspec": {
   "display_name": "Python 3",
   "language": "python",
   "name": "python3"
  },
  "language_info": {
   "codemirror_mode": {
    "name": "ipython",
    "version": 3
   },
   "file_extension": ".py",
   "mimetype": "text/x-python",
   "name": "python",
   "nbconvert_exporter": "python",
   "pygments_lexer": "ipython3",
   "version": "3.7.0"
  }
 },
 "nbformat": 4,
 "nbformat_minor": 2
}
